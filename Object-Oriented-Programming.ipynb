{
 "cells": [
  {
   "cell_type": "markdown",
   "metadata": {},
   "source": [
    "核心概念：\n",
    "\n",
    "1. **类和对象**:\n",
    "   - 类是一个模板或蓝图，描述了一系列相同的对象的共同属性和方法。\n",
    "   - 对象是类的一个实例。\n",
    "\n",
    "2. **封装**:\n",
    "   - 封装是隐藏对象的内部状态并要求外部代码通过明确定义的方法来与该对象交互的过程。\n",
    "\n",
    "3. **继承**:\n",
    "   - 允许定义一个类作为另一个已存在的类的子类。子类继承父类的属性和方法。\n",
    "\n",
    "4. **多态**:\n",
    "   - 指的是不同的类可能会定义相同的方法或属性。在运行时，你可以用一个统一的接口来调用真实的方法或属性。\n",
    "\n"
   ]
  },
  {
   "cell_type": "code",
   "execution_count": 1,
   "metadata": {},
   "outputs": [
    {
     "name": "stdout",
     "output_type": "stream",
     "text": [
      "Buddy says Woof!\n",
      "Kitty says Meow!\n"
     ]
    }
   ],
   "source": [
    "# 定义一个基类 Animal\n",
    "class Animal:\n",
    "    def __init__(self, name):\n",
    "        self.name = name\n",
    "\n",
    "    def speak(self):\n",
    "        raise NotImplementedError(\"Subclasses should implement this method!\")\n",
    "\n",
    "# Dog 是 Animal 的子类\n",
    "class Dog(Animal):\n",
    "    def speak(self):\n",
    "        return f\"{self.name} says Woof!\"\n",
    "\n",
    "# Cat 也是 Animal 的子类\n",
    "class Cat(Animal):\n",
    "    def speak(self):\n",
    "        return f\"{self.name} says Meow!\"\n",
    "\n",
    "# 实例化对象\n",
    "dog = Dog(\"Buddy\")\n",
    "cat = Cat(\"Kitty\")\n",
    "\n",
    "# 利用多态调用 speak 方法\n",
    "def animal_sound(animal):\n",
    "    return animal.speak()\n",
    "\n",
    "print(animal_sound(dog))  # 输出: Buddy says Woof!\n",
    "print(animal_sound(cat))  # 输出: Kitty says Meow!"
   ]
  },
  {
   "cell_type": "markdown",
   "metadata": {},
   "source": [
    "为了完全掌握 Python 的 OOP，还应该了解以下概念：\n",
    "- 类变量和实例变量：类变量是所有实例共享的变量，而实例变量是每个实例特有的。\n",
    "- 私有和受保护的成员：在 Python 中，通过在成员名前加 _ 或 __ 来表示受保护或私有。\n",
    "- 特殊的“魔法”方法：如 __init__, __str__, __len__ 等，允许对象进行一些内置的操作。\n",
    "- 类方法和静态方法：使用 @classmethod 和 @staticmethod 装饰器。\n",
    "- 组合和聚合：对象可以包含其他对象。"
   ]
  }
 ],
 "metadata": {
  "kernelspec": {
   "display_name": "base",
   "language": "python",
   "name": "python3"
  },
  "language_info": {
   "codemirror_mode": {
    "name": "ipython",
    "version": 3
   },
   "file_extension": ".py",
   "mimetype": "text/x-python",
   "name": "python",
   "nbconvert_exporter": "python",
   "pygments_lexer": "ipython3",
   "version": "3.11.3"
  }
 },
 "nbformat": 4,
 "nbformat_minor": 2
}
