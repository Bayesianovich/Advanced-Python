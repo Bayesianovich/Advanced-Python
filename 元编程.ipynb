{
 "cells": [
  {
   "cell_type": "markdown",
   "metadata": {},
   "source": [
    "元编程是关于代码写代码的技术。在Python中，元编程主要涉及创建、修改和删除对象，如类、函数和属性，等等。Python提供了一些强大的工具来支持元编程，包括装饰器，元类和反射。"
   ]
  },
  {
   "cell_type": "markdown",
   "metadata": {},
   "source": [
    "- 装饰器\n",
    "装饰器是一个特殊的函数，可以修改或增强其他函数或类的功能。它们在函数或方法前面使用@符号，如下所示："
   ]
  },
  {
   "cell_type": "code",
   "execution_count": 1,
   "metadata": {},
   "outputs": [
    {
     "name": "stdout",
     "output_type": "stream",
     "text": [
      "Before function execution\n",
      "Hello, world!\n",
      "After function execution\n"
     ]
    }
   ],
   "source": [
    "def simple_decorator(fn):\n",
    "    def wrapped():\n",
    "        print(\"Before function execution\")\n",
    "        fn()\n",
    "        print(\"After function execution\")\n",
    "    return wrapped\n",
    "\n",
    "@simple_decorator\n",
    "def hello():\n",
    "    print('Hello, world!')\n",
    "\n",
    "hello() \n",
    "    "
   ]
  },
  {
   "cell_type": "markdown",
   "metadata": {},
   "source": [
    "- 元类\n",
    "\n",
    "元类是类的类，它允许你控制类的创建。通常，'type'是用作元类的，但你也可以定义自己的元类。"
   ]
  },
  {
   "cell_type": "code",
   "execution_count": 3,
   "metadata": {},
   "outputs": [
    {
     "name": "stdout",
     "output_type": "stream",
     "text": [
      "This class was created with a custom metaclass.\n"
     ]
    }
   ],
   "source": [
    "class Meta(type):\n",
    "    def __init__(cls,name,bases,dct):\n",
    "        super().__init__(name,bases,dct)\n",
    "        cls.class_created = \"This class was created with a custom metaclass.\"\n",
    "\n",
    "class MyClass(metaclass=Meta):\n",
    "    pass\n",
    "\n",
    "print(MyClass.class_created)"
   ]
  },
  {
   "cell_type": "markdown",
   "metadata": {},
   "source": [
    "- 反射\n",
    "\n",
    "反射是指程序可以**查询关于其自身结构的信息**，并且能够修改它。Python提供了诸如 getattr() setattr() delattr() hasattr()等函数来实现反射。使你可以查询和修改对象的属性。"
   ]
  },
  {
   "cell_type": "code",
   "execution_count": 5,
   "metadata": {},
   "outputs": [
    {
     "name": "stdout",
     "output_type": "stream",
     "text": [
      "42\n",
      "100\n"
     ]
    }
   ],
   "source": [
    "class Example:\n",
    "    def __init__(self, value):\n",
    "        self.value = value\n",
    "    \n",
    "obj = Example(42)\n",
    "print(getattr(obj, 'value'))\n",
    "setattr(obj, 'value', 100)\n",
    "print(getattr(obj, 'value'))"
   ]
  },
  {
   "cell_type": "markdown",
   "metadata": {},
   "source": [
    "内省\n",
    "- 是指程序可以查询关于其自身结构的信息，但不能修改它。Python提供了诸如 type() id() inspect.getmembers()等函数来实现内省。使你可以查询对象的类型和值。还有dir(),isinstance()等都是内省工具。"
   ]
  },
  {
   "cell_type": "code",
   "execution_count": 6,
   "metadata": {},
   "outputs": [
    {
     "name": "stdout",
     "output_type": "stream",
     "text": [
      "1.4142135623730951\n"
     ]
    }
   ],
   "source": [
    "# 动态导入模块\n",
    "可以动态地导入模块和功能\n",
    "import importlib\n",
    "\n",
    "math_module = importlib.import_module('math')\n",
    "print(math_module.sqrt(2))"
   ]
  },
  {
   "cell_type": "markdown",
   "metadata": {},
   "source": [
    "1. 抽象基类(Abstract Base Class, ABCs)\n",
    "\n",
    "- 抽象基类用于定义一组方法和属性，这些方法和属性必须由任何子类实现。它们是一个种类\"接口\"定义机制。\n"
   ]
  },
  {
   "cell_type": "code",
   "execution_count": 9,
   "metadata": {},
   "outputs": [
    {
     "name": "stdout",
     "output_type": "stream",
     "text": [
      "Do something\n"
     ]
    }
   ],
   "source": [
    "from abc import ABC,abstractmethod\n",
    "\n",
    "class AbstractMethod(ABC):\n",
    "\n",
    "    @abstractmethod\n",
    "    def do_something(self):\n",
    "        pass\n",
    "    \n",
    "class ConcreteExample(AbstractMethod):\n",
    "\n",
    "    def do_something(self):\n",
    "        print(\"Do something\")\n",
    "\n",
    "# instance = AbstractExample() #  Raises TypeError\n",
    "instance = ConcreteExample()\n",
    "instance.do_something()"
   ]
  },
  {
   "cell_type": "markdown",
   "metadata": {},
   "source": [
    "2. 描述符：\n",
    "   描述符是实现了'__get__()','__set__()',和/或'__delete__()'方法的类的对象。这些方法允许你自定义属性的访问、设置和删除。"
   ]
  },
  {
   "cell_type": "code",
   "execution_count": 10,
   "metadata": {},
   "outputs": [
    {
     "name": "stdout",
     "output_type": "stream",
     "text": [
      "This is a descriptor value\n"
     ]
    }
   ],
   "source": [
    "class DescriptorExample:\n",
    "    \n",
    "    def __get__(self, instance, owner):\n",
    "        return \"This is a descriptor value\"\n",
    "    \n",
    "    def __set__(self, instance, value):\n",
    "        raise AttributeError(\"This descriptor is read only\")\n",
    "    \n",
    "class MyClass:\n",
    "    descriptor = DescriptorExample()\n",
    "\n",
    "obj = MyClass()\n",
    "print(obj.descriptor)\n"
   ]
  },
  {
   "cell_type": "markdown",
   "metadata": {},
   "source": [
    "动态属性：\n",
    "Python 允许你在运行时动态地为对象添加或修改属性。你可以使用内置函数，如 setattr() 和 getattr()和delattr(), 或者更高级的特性，如\"property\"或描述符。"
   ]
  },
  {
   "cell_type": "code",
   "execution_count": 12,
   "metadata": {},
   "outputs": [
    {
     "name": "stdout",
     "output_type": "stream",
     "text": [
      "42\n"
     ]
    }
   ],
   "source": [
    "class DynamicExample:\n",
    "    \n",
    "    def __init__(self):\n",
    "        self._dynamic_attr = None\n",
    "        \n",
    "    @property\n",
    "    def dynamic_attr(self):\n",
    "        return self._dynamic_attr\n",
    "    \n",
    "    @dynamic_attr.setter\n",
    "    def dynamic_attr(self, value):\n",
    "        if not isinstance(value, int):\n",
    "            raise TypeError(\"Only integers allowed\")\n",
    "        self._dynamic_attr = value\n",
    "    \n",
    "obj = DynamicExample()\n",
    "obj.dynamic_attr = 42\n",
    "print(obj.dynamic_attr)"
   ]
  },
  {
   "cell_type": "code",
   "execution_count": null,
   "metadata": {},
   "outputs": [],
   "source": []
  }
 ],
 "metadata": {
  "kernelspec": {
   "display_name": "base",
   "language": "python",
   "name": "python3"
  },
  "language_info": {
   "codemirror_mode": {
    "name": "ipython",
    "version": 3
   },
   "file_extension": ".py",
   "mimetype": "text/x-python",
   "name": "python",
   "nbconvert_exporter": "python",
   "pygments_lexer": "ipython3",
   "version": "3.11.3"
  }
 },
 "nbformat": 4,
 "nbformat_minor": 2
}
